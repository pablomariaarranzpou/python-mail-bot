{
 "cells": [
  {
   "cell_type": "code",
   "execution_count": null,
   "metadata": {},
   "outputs": [
    {
     "name": "stdout",
     "output_type": "stream",
     "text": [
      " * Serving Flask app \"__main__\" (lazy loading)\n",
      " * Environment: production\n",
      "   WARNING: This is a development server. Do not use it in a production deployment.\n",
      "   Use a production WSGI server instead.\n",
      " * Debug mode: off\n"
     ]
    },
    {
     "name": "stderr",
     "output_type": "stream",
     "text": [
      " * Running on http://0.0.0.0:8080/ (Press CTRL+C to quit)\n"
     ]
    },
    {
     "name": "stdout",
     "output_type": "stream",
     "text": [
      "Escribe tu dirección de correo electrónico: botconecta2@gmail.com\n",
      "Contraseña: 123456aE*\n",
      "Destinatario del precio actualizado: arranzpou10@gmail.com\n"
     ]
    },
    {
     "name": "stderr",
     "output_type": "stream",
     "text": [
      "127.0.0.1 - - [01/Nov/2020 13:54:36] \"\u001b[37mGET /precio HTTP/1.1\u001b[0m\" 200 -\n"
     ]
    },
    {
     "name": "stdout",
     "output_type": "stream",
     "text": [
      "None\n"
     ]
    }
   ],
   "source": [
    "#Analisis estructuras de html del precio diario de la OMEL\n",
    "from bs4 import BeautifulSoup\n",
    "import urllib3\n",
    "from urllib.request import urlopen\n",
    "import smtplib\n",
    "from flask import Flask, request, Response\n",
    "\n",
    "def make_soup(url):\n",
    "    html = urlopen(url)\n",
    "    return BeautifulSoup(html, 'lxml')\n",
    "\n",
    "\n",
    "def precioDos():\n",
    "    url = \"https://www.omie.es/es/market-results/daily/daily-market/daily-hourly-price\"\n",
    "    soup = make_soup(url)\n",
    "    resultados = soup.find_all(\"div\",\"charts-highchart chart\")\n",
    "    indice = str(resultados).find('● Sistema')\n",
    "    preciou = (str(resultados)[indice + 39:])[:5]\n",
    "    precio = preciou.replace(\",\", \".\")\n",
    "    return float(precio)\n",
    "    \n",
    "def precioUno():\n",
    "    url = \"https://www.omie.es/es/market-results/daily/daily-market/daily-hourly-price\"\n",
    "    soup = make_soup(url)\n",
    "    resultados = soup.find_all(\"div\",\"charts-highchart chart\")\n",
    "    preciou = (str(resultados[0])[7432:])[:5]\n",
    "    precio = preciou.replace(\",\", \".\")\n",
    "    print(precio)\n",
    "    return float(precio)\n",
    "\n",
    "def precioTres():\n",
    "    url = \"https://www.omie.es/es/market-results/daily/daily-market/daily-hourly-price\"\n",
    "    soup = make_soup(url)\n",
    "    resultados = soup.find_all(\"div\",\"charts-highchart chart\")\n",
    "    preciou = (str(resultados[0])[7416:])[:5]\n",
    "    precio = preciou.replace(\",\", \".\")\n",
    "    print(precio)\n",
    "    return precio\n",
    "\n",
    "def precioCuatro():\n",
    "    url = \"https://www.omie.es/es/market-results/daily/daily-market/daily-hourly-price\"\n",
    "    soup = make_soup(url)\n",
    "    resultados = soup.find_all(\"div\",\"charts-highchart chart\")\n",
    "    preciou = (str(resultados[0])[7509:])[:5]\n",
    "    precio = preciou.replace(\",\", \".\")\n",
    "    print(precio)\n",
    "    return float(precio)\n",
    "    \n",
    "    \n",
    "def main():\n",
    "    \n",
    "    try:\n",
    "        return float(precioDos())\n",
    "    except:\n",
    "        try:\n",
    "            return float(precioUno())\n",
    "        except:\n",
    "            try:\n",
    "                return float(precioTres())\n",
    "            except:\n",
    "                try:\n",
    "                    return float(precioCuatro())\n",
    "                except:\n",
    "                    return None\n",
    "        \n",
    "    \n",
    "     \n",
    "def enviarMail(yourMail, yourPassword, suMail):\n",
    "    server = smtplib.SMTP('smtp.gmail.com', 587)\n",
    "    server.ehlo()\n",
    "    server.starttls()\n",
    "    server.login(yourMail, yourPassword)\n",
    "    server.sendmail(yourMail, suMail, 'Subject: PRECIO ACTUALIZADO \\n\\n'+str(main())+\" EUR/MWh\")\n",
    "    server.quit()\n",
    "\n",
    "# API GET que mantiene el proceso dispoinlbe en un servidor (este coso LOCALHOST)\n",
    "app = Flask(__name__)\n",
    "\n",
    "@app.route('/precio', methods=['GET'])\n",
    "\n",
    "def respond():\n",
    "    tuMail = input(\"Escribe tu dirección de correo electrónico: \")\n",
    "    tuContra = input(\"Contraseña: \")\n",
    "    destinatario = input(\"Destinatario del precio actualizado: \")\n",
    "    enviarMail(tuMail, tuContra, destinatario)\n",
    "    print(request.json)\n",
    "    return Response(status=200)\n",
    "\n",
    "app.run(host= '0.0.0.0', port=8080)\n"
   ]
  },
  {
   "cell_type": "code",
   "execution_count": null,
   "metadata": {},
   "outputs": [],
   "source": []
  },
  {
   "cell_type": "code",
   "execution_count": null,
   "metadata": {},
   "outputs": [],
   "source": []
  }
 ],
 "metadata": {
  "kernelspec": {
   "display_name": "Python 3",
   "language": "python",
   "name": "python3"
  },
  "language_info": {
   "codemirror_mode": {
    "name": "ipython",
    "version": 3
   },
   "file_extension": ".py",
   "mimetype": "text/x-python",
   "name": "python",
   "nbconvert_exporter": "python",
   "pygments_lexer": "ipython3",
   "version": "3.8.3"
  }
 },
 "nbformat": 4,
 "nbformat_minor": 4
}
